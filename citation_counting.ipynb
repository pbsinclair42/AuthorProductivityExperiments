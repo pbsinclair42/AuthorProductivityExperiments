{
 "cells": [
  {
   "cell_type": "markdown",
   "metadata": {},
   "source": [
    "This notebook is used to count the number of citations associated with each author. Running each cell in turn will be sufficient to create files containing a mapping between author ids and a list of the number of citations on their papers, the sum of their citations, the maximum number of citations awarded an individual paper, and the average number of citations. "
   ]
  },
  {
   "cell_type": "markdown",
   "metadata": {},
   "source": [
    "This first command counts the number of times each abstract was cited and stores it in the file citation_counts"
   ]
  },
  {
   "cell_type": "code",
   "execution_count": 1,
   "metadata": {
    "collapsed": true
   },
   "outputs": [],
   "source": [
    "cat citation_data/hep-th-citations | python count_citations.py > citation_data/citation_counts"
   ]
  },
  {
   "cell_type": "code",
   "execution_count": 1,
   "metadata": {
    "collapsed": true
   },
   "outputs": [],
   "source": [
    "# read the citation counts file into a dictionary\n",
    "with open('citation_data/citation_counts', 'r') as f:\n",
    "    citation_counts = {line.strip().split()[0]: int(line.strip().split()[1]) for line in f}"
   ]
  },
  {
   "cell_type": "code",
   "execution_count": 2,
   "metadata": {
    "collapsed": false
   },
   "outputs": [],
   "source": [
    "# create a list of strings from a string that looks like a list of strings eg ['a', 'b', 'c']\n",
    "def parse_string_to_list(string):\n",
    "    return map(lambda x: x.replace(\"'\", '').strip(), string.replace(']', '').replace('[', '').strip().split(','))\n",
    "\n",
    "# create a dictionary mapping strings to lists from lines of the form: key ['item', 'item2', 'item3']\n",
    "with open('abstract_map.txt', 'r') as f:\n",
    "    abstract_map = {line.strip().split()[0]: parse_string_to_list(' '.join(line.strip().split()[1:])) for line in f}"
   ]
  },
  {
   "cell_type": "code",
   "execution_count": 3,
   "metadata": {
    "collapsed": true
   },
   "outputs": [],
   "source": [
    "from collections import defaultdict"
   ]
  },
  {
   "cell_type": "code",
   "execution_count": 4,
   "metadata": {
    "collapsed": false
   },
   "outputs": [],
   "source": [
    "# invert abstract dictionary from abstract -> authors to author -> abstracts\n",
    "author_abstract_map = defaultdict(list)\n",
    "for abstract, authors in abstract_map.iteritems():\n",
    "    for author in authors:\n",
    "        author_abstract_map[author].append(abstract)"
   ]
  },
  {
   "cell_type": "code",
   "execution_count": 5,
   "metadata": {
    "collapsed": false
   },
   "outputs": [],
   "source": [
    "# store dictionary in file in format author_id\\tcount1 count2 count3\n",
    "with open('citation_data/author_to_abstract.txt', 'a') as f:\n",
    "    for author, abstracts in author_abstract_map.iteritems():\n",
    "        if author == '':\n",
    "            continue\n",
    "        f.write(author + '\\t' + ' '.join(abstracts)+ '\\n')"
   ]
  },
  {
   "cell_type": "code",
   "execution_count": 6,
   "metadata": {
    "collapsed": false
   },
   "outputs": [],
   "source": [
    "# get a dictionary mapping authors to their abstracts\n",
    "def read_author_abstract():\n",
    "    with open('citation_data/author_to_abstract.txt', 'r') as f:\n",
    "        d = defaultdict(list)\n",
    "        for line in f.readlines():\n",
    "            author, abstract_string = line.strip().split('\\t')\n",
    "            abstracts = abstract_string.split()\n",
    "            d[author] = abstracts\n",
    "    return d\n",
    "\n",
    "author_to_abstract = read_author_abstract()"
   ]
  },
  {
   "cell_type": "code",
   "execution_count": 7,
   "metadata": {
    "collapsed": false
   },
   "outputs": [],
   "source": [
    "def replace_abstract_with_count(author_to_abstract, abstract_counts):\n",
    "    # replaces abstracts with their corresponding count\n",
    "    out_dict = defaultdict(list)\n",
    "    for author, abstracts in author_to_abstract.iteritems():\n",
    "        for abstract in abstracts:\n",
    "            try:\n",
    "                out_dict[author].append(abstract_counts[abstract])\n",
    "            except KeyError:\n",
    "                out_dict[author].append(0)\n",
    "\n",
    "    return out_dict"
   ]
  },
  {
   "cell_type": "code",
   "execution_count": 8,
   "metadata": {
    "collapsed": false
   },
   "outputs": [],
   "source": [
    "author_to_count = replace_abstract_with_count(author_to_abstract, citation_counts)"
   ]
  },
  {
   "cell_type": "markdown",
   "metadata": {},
   "source": [
    "The citation counts for our dataset is only taken from a period of two months in 2003 (either feb-march or may-june it isn't clear which). There are positives and negatives with this. The main positive is that we have a set period which means that papers that have been around longer will have a bigger count just by virtue of being older. However, we will also have a potential risk where old papers no longer get cited as much in favour of the new hotness. We could perhaps imagine that the best papers will stand the test of time and still be cited. The same could be said about the new papers, which might not have been found yet so they will not be cited yet, but they also have a chance to benefit from being new and interesting. "
   ]
  },
  {
   "cell_type": "code",
   "execution_count": 12,
   "metadata": {
    "collapsed": false
   },
   "outputs": [],
   "source": [
    "with open('citation_data/author_citation_counts', 'w') as f:\n",
    "    for author, counts in author_to_count.iteritems():\n",
    "        f.write(author + '\\t' + ' '.join(map(str, counts)) + '\\n')"
   ]
  },
  {
   "cell_type": "code",
   "execution_count": 13,
   "metadata": {
    "collapsed": true
   },
   "outputs": [],
   "source": [
    "with open('citation_data/author_citation_sums', 'w') as f:\n",
    "    for author, counts in author_to_count.iteritems():\n",
    "        f.write(author + '\\t' + str(sum(counts)) + '\\n')"
   ]
  },
  {
   "cell_type": "code",
   "execution_count": 14,
   "metadata": {
    "collapsed": true
   },
   "outputs": [],
   "source": [
    "with open('citation_data/author_citation_max', 'w') as f:\n",
    "    for author, counts in author_to_count.iteritems():\n",
    "        f.write(author + '\\t' + str(max(counts)) + '\\n')"
   ]
  },
  {
   "cell_type": "code",
   "execution_count": 15,
   "metadata": {
    "collapsed": true
   },
   "outputs": [],
   "source": [
    "from __future__ import division\n",
    "with open('citation_data/author_citation_avg', 'w') as f:\n",
    "    for author, counts in author_to_count.iteritems():\n",
    "        f.write(author + '\\t' + str(sum(counts)/len(counts)) + '\\n')"
   ]
  },
  {
   "cell_type": "code",
   "execution_count": null,
   "metadata": {
    "collapsed": true
   },
   "outputs": [],
   "source": []
  }
 ],
 "metadata": {
  "kernelspec": {
   "display_name": "Python 2",
   "language": "python",
   "name": "python2"
  },
  "language_info": {
   "codemirror_mode": {
    "name": "ipython",
    "version": 2
   },
   "file_extension": ".py",
   "mimetype": "text/x-python",
   "name": "python",
   "nbconvert_exporter": "python",
   "pygments_lexer": "ipython2",
   "version": "2.7.12"
  }
 },
 "nbformat": 4,
 "nbformat_minor": 1
}
